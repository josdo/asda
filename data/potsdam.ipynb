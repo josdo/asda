{
 "cells": [
  {
   "cell_type": "markdown",
   "metadata": {},
   "source": [
    "# potsdam data pipeline"
   ]
  },
  {
   "cell_type": "code",
   "execution_count": 1,
   "metadata": {},
   "outputs": [],
   "source": [
    "import os\n",
    "import numpy as np\n",
    "import pathlib\n",
    "import re\n",
    "from tqdm import tqdm \n",
    "from PIL import Image"
   ]
  },
  {
   "cell_type": "code",
   "execution_count": 3,
   "metadata": {},
   "outputs": [],
   "source": [
    "# Specify all data file paths\n",
    "d = './potsdam/'\n",
    "dirs = {\n",
    "    'in_imgs': d + 'tiff_imgs/',\n",
    "    'in_masks': d + 'tiff_masks/',\n",
    "    'out_imgs': d + 'imgs/',\n",
    "    'out_masks': d + 'masks/',\n",
    "    'out_split_list': '../dataset/potsdam_list'\n",
    "}"
   ]
  },
  {
   "cell_type": "code",
   "execution_count": 4,
   "metadata": {},
   "outputs": [
    {
     "name": "stderr",
     "output_type": "stream",
     "text": [
      "100%|██████████| 38/38 [00:00<00:00, 250.27it/s]\n",
      "100%|██████████| 38/38 [00:00<00:00, 342.51it/s]\n"
     ]
    }
   ],
   "source": [
    "# convert tiffs to png tiles. 38 images, 6000x6000   \n",
    "\n",
    "# Splits tiff into tiles and saves each as png\n",
    "def split_tiff(inpath, tile_pre, is_mask):\n",
    "    # adapted from http://blog.odonnell.nu/posts/creating-tiles-image-python-and-pil/\n",
    "    tile_ids = []\n",
    "    indir = dirs['in_masks'] if is_mask else dirs['in_imgs']\n",
    "    outdir = dirs['out_masks'] if is_mask else dirs['out_imgs']\n",
    "    image = Image.open(indir + inpath)\n",
    "    tile_width = 1000\n",
    "    tile_height = 1000\n",
    "\n",
    "    currentx = 0\n",
    "    currenty = 0\n",
    "    while currenty < image.size[1]:\n",
    "        while currentx < image.size[0]:\n",
    "#             tile = image.crop((currentx, currenty, currentx + tile_width, currenty + tile_height))\n",
    "            ID = outdir + tile_pre.format(currentx, currenty)\n",
    "            tile_ids.append(ID)\n",
    "#             tile.save(ID + \".png\", \"PNG\", quality=100)\n",
    "            currentx += tile_width\n",
    "        currenty += tile_height\n",
    "        currentx = 0\n",
    "    \n",
    "    return tile_ids\n",
    "    \n",
    "\n",
    "# Tile and partition all imgs and masks\n",
    "# 1368 tiles of 1000x1000. Train: 950, Val: 266, Test: 152\n",
    "partition = {\n",
    "    'train': [],\n",
    "    'val': [],\n",
    "    'test': [],\n",
    "}\n",
    "\n",
    "for tiff_type in ['imgs', 'masks']:\n",
    "    if tiff_type == 'imgs':\n",
    "        outdir, indir = dirs['out_imgs'], dirs['in_imgs']\n",
    "        is_img = True # flag \n",
    "    else:\n",
    "        outdir, indir = dirs['out_masks'], dirs['in_masks']\n",
    "        is_img = False\n",
    "    \n",
    "    # tiff_paths = [p.as_posix() for p in pathlib.Path(indir).glob('*.tif')]\n",
    "    dir_paths = os.listdir(indir)\n",
    "    tiff_paths = [f for f in dir_paths if f.endswith(\".tif\")]\n",
    "    \n",
    "    for p in tqdm(tiff_paths):\n",
    "        #if (p != 'top_potsdam_2_10_RGB.tif' and p != 'top_potsdam_2_10_label.tif'):\n",
    "        #    continue\n",
    "        \n",
    "        m = re.search('_([0-9]*_[0-9]*)_', p) # extract image id (site #, pic #)\n",
    "        tile_prefix = m.group(1) + '_{}_{}' # add formatters for tile row / col    \n",
    "        tile_ids = split_tiff(p, tile_prefix, not is_img)\n",
    "        \n",
    "        # Partition tile ids into train/val/test folds\n",
    "        if is_img:\n",
    "            # shuffle ids\n",
    "            rng = np.random.default_rng()\n",
    "            rng.shuffle(tile_ids)\n",
    "            # define partition splits\n",
    "            num_tiles = len(tile_ids)\n",
    "            pt1, pt2 = int(num_tiles*.7), int(num_tiles*.9)\n",
    "            # assign to folds\n",
    "            partition['train'] += tile_ids[:pt1]\n",
    "            partition['val'] += tile_ids[pt1:pt2]\n",
    "            partition['test'] += tile_ids[pt2:]"
   ]
  },
  {
   "cell_type": "code",
   "execution_count": 5,
   "metadata": {},
   "outputs": [],
   "source": [
    "for split in partition.keys():\n",
    "    with open('%s/%s.txt' % (dirs['out_split_list'], split), 'w') as file:\n",
    "        for ID in partition[split]:\n",
    "            file.write('%s.png\\n' % ID.split('/')[-1])"
   ]
  },
  {
   "cell_type": "markdown",
   "metadata": {},
   "source": [
    "# scratch"
   ]
  },
  {
   "cell_type": "code",
   "execution_count": 6,
   "metadata": {},
   "outputs": [
    {
     "name": "stdout",
     "output_type": "stream",
     "text": [
      "38\n"
     ]
    }
   ],
   "source": [
    "# old path scheme including folder\n",
    "indir = dirs['in_imgs']\n",
    "print(len([p.as_posix() for p in pathlib.Path(indir).glob('*.tif')]))\n"
   ]
  },
  {
   "cell_type": "code",
   "execution_count": 8,
   "metadata": {},
   "outputs": [
    {
     "name": "stdout",
     "output_type": "stream",
     "text": [
      "38\n"
     ]
    }
   ],
   "source": [
    "# new path scheme not including folder\n",
    "dir_paths = os.listdir(indir)\n",
    "tiff_paths = [f for f in dir_paths if f.endswith(\".tif\")]\n",
    "print(len(tiff_paths))\n"
   ]
  },
  {
   "cell_type": "code",
   "execution_count": 34,
   "metadata": {},
   "outputs": [],
   "source": [
    "# how to save as png in new folder\n",
    "img_path = tiff_paths[0]\n",
    "im = Image.open(img_path)\n",
    "im.thumbnail(im.size)\n",
    "outfile = dirs['out_imgs'] + 'blah' + '.png'\n",
    "im.save(outfile, 'PNG', quality=100)\n"
   ]
  },
  {
   "cell_type": "code",
   "execution_count": 18,
   "metadata": {},
   "outputs": [
    {
     "name": "stdout",
     "output_type": "stream",
     "text": [
      "['2_10_0_0', '2_10_0_1000', '2_10_0_2000', '2_10_0_3000', '2_10_0_4000', '2_10_0_5000', '2_10_1000_0', '2_10_1000_1000', '2_10_1000_2000', '2_10_1000_3000', '2_10_1000_4000', '2_10_1000_5000', '2_10_2000_0', '2_10_2000_1000', '2_10_2000_2000', '2_10_2000_3000', '2_10_2000_4000', '2_10_2000_5000', '2_10_3000_0', '2_10_3000_1000', '2_10_3000_2000', '2_10_3000_3000', '2_10_3000_4000', '2_10_3000_5000', '2_10_4000_0', '2_10_4000_1000', '2_10_4000_2000', '2_10_4000_3000', '2_10_4000_4000', '2_10_4000_5000', '2_10_5000_0', '2_10_5000_1000', '2_10_5000_2000', '2_10_5000_3000', '2_10_5000_4000', '2_10_5000_5000']\n"
     ]
    }
   ],
   "source": [
    "inpath = 'top_potsdam_2_10_RGB.tif'\n",
    "indir = 'tiff_imgs/'\n",
    "outdir = 'imgs/'\n",
    "m = re.search('_([0-9]*_[0-9]*)_', inpath) # extract image id (site #, pic #)\n",
    "tile_pre = m.group(1) + '_{}_{}' # add formatters for tile row / col \n",
    "\n",
    "tile_ids = []\n",
    "with rio.open(d + indir + inpath) as tiff:\n",
    "    tile_width, tile_height = 1000, 1000\n",
    "    for window in get_tiles(tiff):\n",
    "        ID = tile_pre.format(int(window.col_off), int(window.row_off))\n",
    "        tile_ids.append(ID) # TODO\n",
    "        \n",
    "print(tile_ids)"
   ]
  },
  {
   "cell_type": "code",
   "execution_count": 24,
   "metadata": {},
   "outputs": [
    {
     "name": "stdout",
     "output_type": "stream",
     "text": [
      "0 , 0\n",
      "1000 , 0\n",
      "2000 , 0\n",
      "3000 , 0\n",
      "4000 , 0\n",
      "5000 , 0\n",
      "0 , 1000\n",
      "1000 , 1000\n",
      "2000 , 1000\n",
      "3000 , 1000\n",
      "4000 , 1000\n",
      "5000 , 1000\n",
      "0 , 2000\n",
      "1000 , 2000\n",
      "2000 , 2000\n",
      "3000 , 2000\n",
      "4000 , 2000\n",
      "5000 , 2000\n",
      "0 , 3000\n",
      "1000 , 3000\n",
      "2000 , 3000\n",
      "3000 , 3000\n",
      "4000 , 3000\n",
      "5000 , 3000\n",
      "0 , 4000\n",
      "1000 , 4000\n",
      "2000 , 4000\n",
      "3000 , 4000\n",
      "4000 , 4000\n",
      "5000 , 4000\n",
      "0 , 5000\n",
      "1000 , 5000\n",
      "2000 , 5000\n",
      "3000 , 5000\n",
      "4000 , 5000\n",
      "5000 , 5000\n"
     ]
    }
   ],
   "source": [
    "# adapted from http://blog.odonnell.nu/posts/creating-tiles-image-python-and-pil/\n",
    "\n",
    "image = Image.open(dirs['in_imgs'] + inpath)\n",
    "tile_width = 1000\n",
    "tile_height = 1000\n",
    "\n",
    "currentx = 0\n",
    "currenty = 0\n",
    "while currenty < image.size[1]:\n",
    "    while currentx < image.size[0]:\n",
    "        print(currentx, \",\", currenty)\n",
    "        tile = image.crop((currentx,currenty,currentx + tile_width,\n",
    "                           currenty + tile_height))\n",
    "        outfile = dirs['out_imgs'] + \"blah\" + str(currentx) + \"_\" + str(currenty) + \".png\"\n",
    "        tile.save(outfile, \"PNG\", quality=100)\n",
    "        currentx += tile_width\n",
    "    currenty += tile_height\n",
    "    currentx = 0\n"
   ]
  }
 ],
 "metadata": {
  "kernelspec": {
   "display_name": "Python 3",
   "language": "python",
   "name": "python3"
  },
  "language_info": {
   "codemirror_mode": {
    "name": "ipython",
    "version": 3
   },
   "file_extension": ".py",
   "mimetype": "text/x-python",
   "name": "python",
   "nbconvert_exporter": "python",
   "pygments_lexer": "ipython3",
   "version": "3.7.6"
  }
 },
 "nbformat": 4,
 "nbformat_minor": 4
}
