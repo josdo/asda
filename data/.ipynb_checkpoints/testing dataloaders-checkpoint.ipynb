{
 "cells": [
  {
   "cell_type": "code",
   "execution_count": 7,
   "metadata": {},
   "outputs": [
    {
     "name": "stdout",
     "output_type": "stream",
     "text": [
      "no change     /Users/charleslin/miniconda3/condabin/conda\n",
      "no change     /Users/charleslin/miniconda3/bin/conda\n",
      "no change     /Users/charleslin/miniconda3/bin/conda-env\n",
      "no change     /Users/charleslin/miniconda3/bin/activate\n",
      "no change     /Users/charleslin/miniconda3/bin/deactivate\n",
      "no change     /Users/charleslin/miniconda3/etc/profile.d/conda.sh\n",
      "no change     /Users/charleslin/miniconda3/etc/fish/conf.d/conda.fish\n",
      "no change     /Users/charleslin/miniconda3/shell/condabin/Conda.psm1\n",
      "no change     /Users/charleslin/miniconda3/shell/condabin/conda-hook.ps1\n",
      "no change     /Users/charleslin/miniconda3/lib/python3.8/site-packages/xontrib/conda.xsh\n",
      "no change     /Users/charleslin/miniconda3/etc/profile.d/conda.csh\n",
      "no change     /Users/charleslin/.bash_profile\n",
      "No action taken.\n",
      "\n",
      "CommandNotFoundError: Your shell has not been properly configured to use 'conda activate'.\n",
      "To initialize your shell, run\n",
      "\n",
      "    $ conda init <SHELL_NAME>\n",
      "\n",
      "Currently supported shells are:\n",
      "  - bash\n",
      "  - fish\n",
      "  - tcsh\n",
      "  - xonsh\n",
      "  - zsh\n",
      "  - powershell\n",
      "\n",
      "See 'conda init --help' for more information and options.\n",
      "\n",
      "IMPORTANT: You may need to close and restart your shell after running 'conda init'.\n",
      "\n",
      "\n"
     ]
    }
   ],
   "source": [
    "!conda init bash\n",
    "!conda activate asda"
   ]
  },
  {
   "cell_type": "code",
   "execution_count": null,
   "metadata": {},
   "outputs": [],
   "source": []
  },
  {
   "cell_type": "code",
   "execution_count": 8,
   "metadata": {},
   "outputs": [
    {
     "name": "stdout",
     "output_type": "stream",
     "text": [
      "Traceback (most recent call last):\n",
      "  File \"../dataset/dstl_dataset.py\", line 7, in <module>\n",
      "    import torchvision\n",
      "ModuleNotFoundError: No module named 'torchvision'\n"
     ]
    }
   ],
   "source": [
    "!python3 ../dataset/dstl_dataset.py"
   ]
  },
  {
   "cell_type": "code",
   "execution_count": null,
   "metadata": {},
   "outputs": [],
   "source": []
  }
 ],
 "metadata": {
  "kernelspec": {
   "display_name": "asda",
   "language": "python",
   "name": "asda"
  },
  "language_info": {
   "codemirror_mode": {
    "name": "ipython",
    "version": 3
   },
   "file_extension": ".py",
   "mimetype": "text/x-python",
   "name": "python",
   "nbconvert_exporter": "python",
   "pygments_lexer": "ipython3",
   "version": "3.8.5"
  }
 },
 "nbformat": 4,
 "nbformat_minor": 4
}
