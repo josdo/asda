{
 "cells": [
  {
   "cell_type": "code",
   "execution_count": 5,
   "metadata": {},
   "outputs": [
    {
     "name": "stdout",
     "output_type": "stream",
     "text": [
      "              total        used        free      shared  buff/cache   available\r\n",
      "Mem:          15043         345       11972          10        2724       14422\r\n",
      "Swap:             0           0           0\r\n"
     ]
    }
   ],
   "source": [
    "!free -m"
   ]
  },
  {
   "cell_type": "code",
   "execution_count": 1,
   "metadata": {},
   "outputs": [],
   "source": [
    "%load_ext autoreload\n",
    "%autoreload 2"
   ]
  },
  {
   "cell_type": "code",
   "execution_count": null,
   "metadata": {},
   "outputs": [],
   "source": [
    "# !python evaluate_cityscapes.py \\\n",
    "#     --restore-from ./snapshots/1280x640_restore_ft_GN_batchsize9_512x256_pp_ms_me0_classbalance7_kl0_lr1_drop0.2_seg0.5_BN_80_255_0.8_Noaug/GTA5_25000.pth"
   ]
  },
  {
   "cell_type": "code",
   "execution_count": 9,
   "metadata": {},
   "outputs": [],
   "source": [
    "#!watch -n 0.5 nvidia-smi\n",
    "#!watch -n 0.5 free -m"
   ]
  },
  {
   "cell_type": "code",
   "execution_count": 2,
   "metadata": {
    "scrolled": false
   },
   "outputs": [
    {
     "name": "stdout",
     "output_type": "stream",
     "text": [
      "/opt/conda/lib/python3.7/site-packages/torch/nn/_reduction.py:43: UserWarning: size_average and reduce args will be deprecated, please use reduction='sum' instead.\n",
      "  warnings.warn(warning.format(ret))\n",
      "Selected optimization level O1:  Insert automatic casts around Pytorch functions and Tensor methods.\n",
      "\n",
      "Defaults for this optimization level are:\n",
      "enabled                : True\n",
      "opt_level              : O1\n",
      "cast_model_type        : None\n",
      "patch_torch_functions  : True\n",
      "keep_batchnorm_fp32    : None\n",
      "master_weights         : None\n",
      "loss_scale             : dynamic\n",
      "Processing user overrides (additional kwargs that are not None)...\n",
      "After processing overrides, optimization options are:\n",
      "enabled                : True\n",
      "opt_level              : O1\n",
      "cast_model_type        : None\n",
      "patch_torch_functions  : True\n",
      "keep_batchnorm_fp32    : None\n",
      "master_weights         : None\n",
      "loss_scale             : dynamic\n",
      "Selected optimization level O1:  Insert automatic casts around Pytorch functions and Tensor methods.\n",
      "\n",
      "Defaults for this optimization level are:\n",
      "enabled                : True\n",
      "opt_level              : O1\n",
      "cast_model_type        : None\n",
      "patch_torch_functions  : True\n",
      "keep_batchnorm_fp32    : None\n",
      "master_weights         : None\n",
      "loss_scale             : dynamic\n",
      "Processing user overrides (additional kwargs that are not None)...\n",
      "After processing overrides, optimization options are:\n",
      "enabled                : True\n",
      "opt_level              : O1\n",
      "cast_model_type        : None\n",
      "patch_torch_functions  : True\n",
      "keep_batchnorm_fp32    : None\n",
      "master_weights         : None\n",
      "loss_scale             : dynamic\n",
      "Selected optimization level O1:  Insert automatic casts around Pytorch functions and Tensor methods.\n",
      "\n",
      "Defaults for this optimization level are:\n",
      "enabled                : True\n",
      "opt_level              : O1\n",
      "cast_model_type        : None\n",
      "patch_torch_functions  : True\n",
      "keep_batchnorm_fp32    : None\n",
      "master_weights         : None\n",
      "loss_scale             : dynamic\n",
      "Processing user overrides (additional kwargs that are not None)...\n",
      "After processing overrides, optimization options are:\n",
      "enabled                : True\n",
      "opt_level              : O1\n",
      "cast_model_type        : None\n",
      "patch_torch_functions  : True\n",
      "keep_batchnorm_fp32    : None\n",
      "master_weights         : None\n",
      "loss_scale             : dynamic\n",
      "-------lr_G: 0.000020-------\n",
      "(1000, 1000)\n",
      "(1000, 1000)\n",
      "(1000, 1000)\n",
      "(1000, 1000)\n",
      "(1000, 1000)\n",
      "torch.Size([1, 1000, 1000])\n",
      "tensor([1., 1., 1., 1., 1., 1.], device='cuda:0')\n",
      "original loss: 1.794783\n",
      "original loss: 1.310146\n",
      "^C\n",
      "Elapsed time in update: 14.337094\n",
      "Traceback (most recent call last):\n",
      "  File \"train_ms.py\", line 361, in <module>\n",
      "    main()\n",
      "  File \"train_ms.py\", line 302, in main\n",
      "    loss_seg1, loss_seg2, loss_adv_target1, loss_adv_target2, loss_me, loss_kl, pred1, pred2, pred_target1, pred_target2, val_loss = Trainer.gen_update(images, images_t, labels, labels_t, i_iter)\n",
      "  File \"/home/sleepearly/asda/trainer_ms.py\", line 205, in gen_update\n",
      "    loss_adv_target1 = self.D1.calc_gen_loss( self.D1, input_fake = F.softmax(pred_target1, dim=1) )\n",
      "  File \"/home/sleepearly/asda/model/ms_discriminator.py\", line 152, in calc_gen_loss\n",
      "    outs0 = model.forward(input_fake)\n",
      "  File \"/home/sleepearly/asda/model/ms_discriminator.py\", line 108, in forward\n",
      "    outputs.append(model(x))\n",
      "  File \"/opt/conda/lib/python3.7/site-packages/torch/nn/modules/module.py\", line 532, in __call__\n",
      "    result = self.forward(*input, **kwargs)\n",
      "  File \"/opt/conda/lib/python3.7/site-packages/torch/nn/modules/container.py\", line 100, in forward\n",
      "    input = module(input)\n",
      "  File \"/opt/conda/lib/python3.7/site-packages/torch/nn/modules/module.py\", line 532, in __call__\n",
      "    result = self.forward(*input, **kwargs)\n",
      "  File \"/home/sleepearly/asda/model/ms_discriminator.py\", line 478, in forward\n",
      "    x = self.conv(x)\n",
      "  File \"/opt/conda/lib/python3.7/site-packages/torch/nn/modules/module.py\", line 532, in __call__\n",
      "    result = self.forward(*input, **kwargs)\n",
      "  File \"/opt/conda/lib/python3.7/site-packages/torch/nn/modules/conv.py\", line 345, in forward\n",
      "    return self.conv2d_forward(input, self.weight)\n",
      "  File \"/opt/conda/lib/python3.7/site-packages/torch/nn/modules/conv.py\", line 342, in conv2d_forward\n",
      "    self.padding, self.dilation, self.groups)\n",
      "  File \"/opt/conda/lib/python3.7/site-packages/apex/amp/wrap.py\", line 28, in wrapper\n",
      "    return orig_fn(*new_args, **kwargs)\n",
      "  File \"/opt/conda/lib/python3.7/site-packages/apex/amp/wrap.py\", line 28, in wrapper\n",
      "    return orig_fn(*new_args, **kwargs)\n",
      "  File \"/opt/conda/lib/python3.7/site-packages/apex/amp/wrap.py\", line 28, in wrapper\n",
      "    return orig_fn(*new_args, **kwargs)\n",
      "KeyboardInterrupt\n"
     ]
    }
   ],
   "source": [
    "!python train_ms.py \\\n",
    "    --restore-from ./aerial_network_training/checkpoints/vary_dropout_2_reduce_variance/latest_lr0.00025_gam2_drop0.00.pth \\\n",
    "    --num-classes 6 \\\n",
    "    --data-list ./dataset/potsdam_list/train.txt \\\n",
    "    --data-dir ./data/potsdam \\\n",
    "    --data-list-target ./dataset/dstl_list/train.txt \\\n",
    "    --data-dir-target ./data/dstl \\\n",
    "    --drop 0.1 --warm-up 5000 --batch-size 1 --learning-rate 2e-4 --crop-size 1000,1000 \\\n",
    "    --lambda-seg 0.5  --lambda-adv-target1 0.0002 --lambda-adv-target2 0.001 \\\n",
    "    --lambda-me-target 0  --lambda-kl-target 0.1  \\\n",
    "    --norm-style gn  --class-balance  --only-hard-label 80 \\\n",
    "    --max-value 7  --gpu-ids 0  --often-balance  --use-se --fp16\n",
    "# --verbose_model_loading"
   ]
  }
 ],
 "metadata": {
  "kernelspec": {
   "display_name": "Python 3",
   "language": "python",
   "name": "python3"
  },
  "language_info": {
   "codemirror_mode": {
    "name": "ipython",
    "version": 3
   },
   "file_extension": ".py",
   "mimetype": "text/x-python",
   "name": "python",
   "nbconvert_exporter": "python",
   "pygments_lexer": "ipython3",
   "version": "3.7.6"
  }
 },
 "nbformat": 4,
 "nbformat_minor": 4
}
