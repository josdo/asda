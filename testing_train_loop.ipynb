{
 "cells": [
  {
   "cell_type": "code",
   "execution_count": 1,
   "metadata": {},
   "outputs": [
    {
     "name": "stdout",
     "output_type": "stream",
     "text": [
      "              total        used        free      shared  buff/cache   available\r\n",
      "Mem:          15043         356       14168          10         518       14414\r\n",
      "Swap:             0           0           0\r\n"
     ]
    }
   ],
   "source": [
    "!free -m"
   ]
  },
  {
   "cell_type": "code",
   "execution_count": 2,
   "metadata": {},
   "outputs": [],
   "source": [
    "%load_ext autoreload\n",
    "%autoreload 2"
   ]
  },
  {
   "cell_type": "code",
   "execution_count": null,
   "metadata": {},
   "outputs": [],
   "source": [
    "# !python evaluate_cityscapes.py \\\n",
    "#     --restore-from ./snapshots/1280x640_restore_ft_GN_batchsize9_512x256_pp_ms_me0_classbalance7_kl0_lr1_drop0.2_seg0.5_BN_80_255_0.8_Noaug/GTA5_25000.pth"
   ]
  },
  {
   "cell_type": "code",
   "execution_count": 3,
   "metadata": {},
   "outputs": [
    {
     "name": "stdout",
     "output_type": "stream",
     "text": [
      "This is not an error. If you want to use low precision, i.e., fp16, please install the apex with cuda support (https://github.com/NVIDIA/apex) and update pytorch to 1.0\n",
      "/opt/conda/lib/python3.7/site-packages/torch/nn/_reduction.py:43: UserWarning: size_average and reduce args will be deprecated, please use reduction='sum' instead.\n",
      "  warnings.warn(warning.format(ret))\n",
      "-------lr_G: 0.000020-------\n",
      "Traceback (most recent call last):\n",
      "  File \"train_ms.py\", line 361, in <module>\n",
      "    main()\n",
      "  File \"train_ms.py\", line 294, in main\n",
      "    images, labels, _, _ = batch\n",
      "ValueError: not enough values to unpack (expected 4, got 2)\n"
     ]
    }
   ],
   "source": [
    "!watch -n 0.5 nvidia-smi\n",
    "!watch -n 0.5 free -h\n",
    "\n",
    "!python train_ms.py \\\n",
    "    --restore-from ./aerial_network_training/checkpoints/vary_dropout_2_reduce_variance/latest_lr0.00025_gam2_drop0.00.pth \\\n",
    "    --num-classes 6 \\\n",
    "    --data-list ./dataset/potsdam_list/train.txt \\\n",
    "    --data-dir ./data/potsdam \\\n",
    "    --data-list-target ./dataset/dstl_list/train.txt \\\n",
    "    --data-dir-target ./data/dstl \\\n",
    "    --drop 0.1 --warm-up 5000 --batch-size 2 --learning-rate 2e-4 --crop-size 1024,512 \\\n",
    "    --lambda-seg 0.5  --lambda-adv-target1 0.0002 --lambda-adv-target2 0.001 \\\n",
    "    --lambda-me-target 0  --lambda-kl-target 0.1  \\\n",
    "    --norm-style gn  --class-balance  --only-hard-label 80 \\\n",
    "    --max-value 7  --gpu-ids 0  --often-balance  --use-se\n",
    "# --verbose_model_loading"
   ]
  }
 ],
 "metadata": {
  "kernelspec": {
   "display_name": "Python 3",
   "language": "python",
   "name": "python3"
  },
  "language_info": {
   "codemirror_mode": {
    "name": "ipython",
    "version": 3
   },
   "file_extension": ".py",
   "mimetype": "text/x-python",
   "name": "python",
   "nbconvert_exporter": "python",
   "pygments_lexer": "ipython3",
   "version": "3.7.6"
  }
 },
 "nbformat": 4,
 "nbformat_minor": 4
}
