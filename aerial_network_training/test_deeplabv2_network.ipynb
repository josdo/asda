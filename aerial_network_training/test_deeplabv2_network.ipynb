{
 "cells": [
  {
   "cell_type": "code",
   "execution_count": 1,
   "metadata": {},
   "outputs": [],
   "source": [
    "%load_ext autoreload\n",
    "%autoreload 2"
   ]
  },
  {
   "cell_type": "code",
   "execution_count": 40,
   "metadata": {},
   "outputs": [
    {
     "name": "stdout",
     "output_type": "stream",
     "text": [
      "Setting up a new session...\n",
      "Device: cpu\n",
      "Dataset: potsdam, Train set: 646, Val set: 190\n",
      "Unfreezing down to head\n",
      "     layer5.head.1\n",
      "     layer6.head.1\n",
      "Numbers of parameters:  6144\n",
      "^C\n"
     ]
    }
   ],
   "source": [
    "!python main.py \\\n",
    "    --unfreeze_to 'head' \\\n",
    "    --restore-from ./pretrained_weights/SE_GN_batchsize2_1024x512_pp_ms_me0_classbalance7_kl0.1_lr2_drop0.1_seg0.5/GTA5_25000_new_head.pth \\\n",
    "    --droprate 0.1 \\\n",
    "    --use-se \\\n",
    "    --norm-style gn \\\n",
    "    --loss_type focal_loss \\\n",
    "    --learning_rate 1.3e-2 \\\n",
    "    --exp_name 3_resnet \\\n",
    "    --goal_name converging_head \\\n",
    "    --batch_size 16 \\\n",
    "    --val_batch_size 4 \\\n",
    "    --output_stride 16 \\\n",
    "    --ckpt ./checkpoints/pretrained_resnet101_v3plus_uninit_head.pth \\\n",
    "    --val_interval 10 \\\n",
    "    --no_aug \\\n",
    "    --enable_vis \\\n",
    "    --vis_port 7000 \\\n",
    "    --vis_num_samples 3 \\\n",
    "    --dataset potsdam \\\n",
    "    --data_root ./data/ \\\n",
    "    --num_classes 6 \\\n",
    "    --gpu_id 0\n",
    "#     --train_bn \\\n",
    "# --model deeplabv3plus_resnet101 \\\n",
    "    "
   ]
  }
 ],
 "metadata": {
  "kernelspec": {
   "display_name": "Python 3",
   "language": "python",
   "name": "python3"
  },
  "language_info": {
   "codemirror_mode": {
    "name": "ipython",
    "version": 3
   },
   "file_extension": ".py",
   "mimetype": "text/x-python",
   "name": "python",
   "nbconvert_exporter": "python",
   "pygments_lexer": "ipython3",
   "version": "3.7.7"
  }
 },
 "nbformat": 4,
 "nbformat_minor": 4
}
